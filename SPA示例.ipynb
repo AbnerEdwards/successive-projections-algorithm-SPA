{
 "cells": [
  {
   "cell_type": "code",
   "execution_count": 1,
   "id": "15c826ae",
   "metadata": {},
   "outputs": [
    {
     "data": {
      "text/html": [
       "<div>\n",
       "<style scoped>\n",
       "    .dataframe tbody tr th:only-of-type {\n",
       "        vertical-align: middle;\n",
       "    }\n",
       "\n",
       "    .dataframe tbody tr th {\n",
       "        vertical-align: top;\n",
       "    }\n",
       "\n",
       "    .dataframe thead th {\n",
       "        text-align: right;\n",
       "    }\n",
       "</style>\n",
       "<table border=\"1\" class=\"dataframe\">\n",
       "  <thead>\n",
       "    <tr style=\"text-align: right;\">\n",
       "      <th></th>\n",
       "      <th>Brix</th>\n",
       "      <th>wl1</th>\n",
       "      <th>wl2</th>\n",
       "      <th>wl3</th>\n",
       "      <th>wl4</th>\n",
       "      <th>wl5</th>\n",
       "      <th>wl6</th>\n",
       "      <th>wl7</th>\n",
       "      <th>wl8</th>\n",
       "      <th>wl9</th>\n",
       "      <th>...</th>\n",
       "      <th>wl591</th>\n",
       "      <th>wl592</th>\n",
       "      <th>wl593</th>\n",
       "      <th>wl594</th>\n",
       "      <th>wl595</th>\n",
       "      <th>wl596</th>\n",
       "      <th>wl597</th>\n",
       "      <th>wl598</th>\n",
       "      <th>wl599</th>\n",
       "      <th>wl600</th>\n",
       "    </tr>\n",
       "  </thead>\n",
       "  <tbody>\n",
       "    <tr>\n",
       "      <th>0</th>\n",
       "      <td>15.5</td>\n",
       "      <td>-1.032355</td>\n",
       "      <td>-1.030551</td>\n",
       "      <td>-1.027970</td>\n",
       "      <td>-1.024937</td>\n",
       "      <td>-1.021866</td>\n",
       "      <td>-1.019143</td>\n",
       "      <td>-1.016866</td>\n",
       "      <td>-1.014910</td>\n",
       "      <td>-1.012907</td>\n",
       "      <td>...</td>\n",
       "      <td>0.692447</td>\n",
       "      <td>0.692944</td>\n",
       "      <td>0.692376</td>\n",
       "      <td>0.690764</td>\n",
       "      <td>0.688081</td>\n",
       "      <td>0.684294</td>\n",
       "      <td>0.679348</td>\n",
       "      <td>0.673240</td>\n",
       "      <td>0.665922</td>\n",
       "      <td>0.657307</td>\n",
       "    </tr>\n",
       "    <tr>\n",
       "      <th>1</th>\n",
       "      <td>16.7</td>\n",
       "      <td>-1.139034</td>\n",
       "      <td>-1.137186</td>\n",
       "      <td>-1.134485</td>\n",
       "      <td>-1.131222</td>\n",
       "      <td>-1.127761</td>\n",
       "      <td>-1.124464</td>\n",
       "      <td>-1.121508</td>\n",
       "      <td>-1.118802</td>\n",
       "      <td>-1.115973</td>\n",
       "      <td>...</td>\n",
       "      <td>0.729328</td>\n",
       "      <td>0.728031</td>\n",
       "      <td>0.725548</td>\n",
       "      <td>0.721815</td>\n",
       "      <td>0.716767</td>\n",
       "      <td>0.710405</td>\n",
       "      <td>0.702706</td>\n",
       "      <td>0.693710</td>\n",
       "      <td>0.683480</td>\n",
       "      <td>0.671960</td>\n",
       "    </tr>\n",
       "    <tr>\n",
       "      <th>2</th>\n",
       "      <td>18.1</td>\n",
       "      <td>-1.152821</td>\n",
       "      <td>-1.150937</td>\n",
       "      <td>-1.148288</td>\n",
       "      <td>-1.145165</td>\n",
       "      <td>-1.141951</td>\n",
       "      <td>-1.138977</td>\n",
       "      <td>-1.136366</td>\n",
       "      <td>-1.134011</td>\n",
       "      <td>-1.131516</td>\n",
       "      <td>...</td>\n",
       "      <td>0.736608</td>\n",
       "      <td>0.735214</td>\n",
       "      <td>0.732669</td>\n",
       "      <td>0.728911</td>\n",
       "      <td>0.723844</td>\n",
       "      <td>0.717415</td>\n",
       "      <td>0.709645</td>\n",
       "      <td>0.700555</td>\n",
       "      <td>0.690147</td>\n",
       "      <td>0.678390</td>\n",
       "    </tr>\n",
       "    <tr>\n",
       "      <th>3</th>\n",
       "      <td>14.8</td>\n",
       "      <td>-1.087215</td>\n",
       "      <td>-1.085455</td>\n",
       "      <td>-1.082867</td>\n",
       "      <td>-1.079797</td>\n",
       "      <td>-1.076568</td>\n",
       "      <td>-1.073632</td>\n",
       "      <td>-1.071087</td>\n",
       "      <td>-1.068877</td>\n",
       "      <td>-1.066654</td>\n",
       "      <td>...</td>\n",
       "      <td>0.758695</td>\n",
       "      <td>0.757963</td>\n",
       "      <td>0.756038</td>\n",
       "      <td>0.752903</td>\n",
       "      <td>0.748496</td>\n",
       "      <td>0.742886</td>\n",
       "      <td>0.736085</td>\n",
       "      <td>0.728019</td>\n",
       "      <td>0.718577</td>\n",
       "      <td>0.707702</td>\n",
       "    </tr>\n",
       "    <tr>\n",
       "      <th>4</th>\n",
       "      <td>15.1</td>\n",
       "      <td>-1.080364</td>\n",
       "      <td>-1.078436</td>\n",
       "      <td>-1.075784</td>\n",
       "      <td>-1.072693</td>\n",
       "      <td>-1.069562</td>\n",
       "      <td>-1.066691</td>\n",
       "      <td>-1.064214</td>\n",
       "      <td>-1.062025</td>\n",
       "      <td>-1.059787</td>\n",
       "      <td>...</td>\n",
       "      <td>0.719793</td>\n",
       "      <td>0.718875</td>\n",
       "      <td>0.716860</td>\n",
       "      <td>0.713771</td>\n",
       "      <td>0.709577</td>\n",
       "      <td>0.704232</td>\n",
       "      <td>0.697717</td>\n",
       "      <td>0.689882</td>\n",
       "      <td>0.680748</td>\n",
       "      <td>0.670263</td>\n",
       "    </tr>\n",
       "  </tbody>\n",
       "</table>\n",
       "<p>5 rows × 601 columns</p>\n",
       "</div>"
      ],
      "text/plain": [
       "   Brix       wl1       wl2       wl3       wl4       wl5       wl6       wl7  \\\n",
       "0  15.5 -1.032355 -1.030551 -1.027970 -1.024937 -1.021866 -1.019143 -1.016866   \n",
       "1  16.7 -1.139034 -1.137186 -1.134485 -1.131222 -1.127761 -1.124464 -1.121508   \n",
       "2  18.1 -1.152821 -1.150937 -1.148288 -1.145165 -1.141951 -1.138977 -1.136366   \n",
       "3  14.8 -1.087215 -1.085455 -1.082867 -1.079797 -1.076568 -1.073632 -1.071087   \n",
       "4  15.1 -1.080364 -1.078436 -1.075784 -1.072693 -1.069562 -1.066691 -1.064214   \n",
       "\n",
       "        wl8       wl9  ...     wl591     wl592     wl593     wl594     wl595  \\\n",
       "0 -1.014910 -1.012907  ...  0.692447  0.692944  0.692376  0.690764  0.688081   \n",
       "1 -1.118802 -1.115973  ...  0.729328  0.728031  0.725548  0.721815  0.716767   \n",
       "2 -1.134011 -1.131516  ...  0.736608  0.735214  0.732669  0.728911  0.723844   \n",
       "3 -1.068877 -1.066654  ...  0.758695  0.757963  0.756038  0.752903  0.748496   \n",
       "4 -1.062025 -1.059787  ...  0.719793  0.718875  0.716860  0.713771  0.709577   \n",
       "\n",
       "      wl596     wl597     wl598     wl599     wl600  \n",
       "0  0.684294  0.679348  0.673240  0.665922  0.657307  \n",
       "1  0.710405  0.702706  0.693710  0.683480  0.671960  \n",
       "2  0.717415  0.709645  0.700555  0.690147  0.678390  \n",
       "3  0.742886  0.736085  0.728019  0.718577  0.707702  \n",
       "4  0.704232  0.697717  0.689882  0.680748  0.670263  \n",
       "\n",
       "[5 rows x 601 columns]"
      ]
     },
     "execution_count": 1,
     "metadata": {},
     "output_type": "execute_result"
    }
   ],
   "source": [
    "# 导入 pandas 读取数据\n",
    "import pandas as pd\n",
    "import numpy as np\n",
    "\n",
    "# 读取数据\n",
    "data = pd.read_csv(\"./data/peach_spectra_brix.csv\")\n",
    "data[:5]"
   ]
  },
  {
   "cell_type": "code",
   "execution_count": 2,
   "id": "369b8900",
   "metadata": {},
   "outputs": [
    {
     "name": "stdout",
     "output_type": "stream",
     "text": [
      "数据矩阵 data.shape： (50, 601)\n",
      "X.shape:(50, 600), y.shape:(50,)\n"
     ]
    },
    {
     "data": {
      "text/plain": [
       "(array([[-1.03235522, -1.03055086, -1.02796982, ...,  0.67323981,\n",
       "          0.66592221,  0.65730671],\n",
       "        [-1.13903374, -1.13718559, -1.13448514, ...,  0.69371003,\n",
       "          0.6834796 ,  0.67195954],\n",
       "        [-1.15282145, -1.15093731, -1.14828792, ...,  0.7005548 ,\n",
       "          0.69014711,  0.67839039],\n",
       "        ...,\n",
       "        [-1.07507228, -1.07321983, -1.07053089, ...,  0.68964632,\n",
       "          0.68117942,  0.6714216 ],\n",
       "        [-1.13547094, -1.13363607, -1.13100228, ...,  0.70733553,\n",
       "          0.69798395,  0.68729054],\n",
       "        [-1.03606157, -1.03425973, -1.03167827, ...,  0.66929315,\n",
       "          0.66099829,  0.65157825]]),\n",
       " array([15.5, 16.7, 18.1, 14.8, 15.1, 19.3, 12.5, 17.7, 18.5, 18.3, 18.6,\n",
       "        17.2, 19.4, 16.2, 15.3, 14.3, 13.3, 14.8, 18.5, 11.2, 16.3, 17.5,\n",
       "        16.4, 18.1, 17.5, 16.7, 20. , 14.5, 13. , 11.3, 16.8, 17.2, 15.4,\n",
       "        13.5, 19.2, 15.4, 15.8, 18. , 18.2, 12.3, 15.5, 14.8, 19.1, 17.9,\n",
       "        16.8, 18.1, 16.6, 18.8, 17.7, 18.1]))"
      ]
     },
     "execution_count": 2,
     "metadata": {},
     "output_type": "execute_result"
    }
   ],
   "source": [
    "# m * n \n",
    "print(\"数据矩阵 data.shape：\",data.shape)\n",
    "\n",
    "# 50个样本， 600个 波段 第一列是 桃子糖度值 需要分离开\n",
    "X = data.values[:,1:] \n",
    "# 等同操作\n",
    "#X = data.drop(['Brix'], axis=1)\n",
    "\n",
    "y = data.values[:,0]\n",
    "# 等同操作\n",
    "# y = data.loc[:,'Brix'].values\n",
    "\n",
    "print(f\"X.shape:{X.shape}, y.shape:{y.shape}\")\n",
    "X,y"
   ]
  },
  {
   "cell_type": "code",
   "execution_count": 3,
   "id": "628170a0",
   "metadata": {},
   "outputs": [
    {
     "data": {
      "text/plain": [
       "<module 'SPA' from '/home/rxc/study/SPA/SPA.py'>"
      ]
     },
     "execution_count": 3,
     "metadata": {},
     "output_type": "execute_result"
    }
   ],
   "source": [
    "# 导入SPA包\n",
    "import SPA \n",
    "\n",
    "SPA"
   ]
  },
  {
   "cell_type": "code",
   "execution_count": 4,
   "id": "43159687",
   "metadata": {},
   "outputs": [
    {
     "name": "stdout",
     "output_type": "stream",
     "text": [
      "[-1.13903374 -1.13718559 -1.13448514 -1.13122205 -1.12776107]\n",
      "[-0.60169236 -0.60165083 -0.60179295 -0.60222359 -0.60283253]\n"
     ]
    }
   ],
   "source": [
    "# 导入spa对象\n",
    "spa = SPA.SPA()\n",
    "# 数据归一化\n",
    "from sklearn.preprocessing import MinMaxScaler\n",
    "min_max_scaler = MinMaxScaler(feature_range=(-1, 1))  # 这里feature_range根据需要自行设置，默认（0,1）\n",
    "\n",
    "X_ = min_max_scaler.fit_transform(X)\n",
    "\n",
    "print(X[1,:5])\n",
    "print(X_[1,:5])"
   ]
  },
  {
   "cell_type": "code",
   "execution_count": 5,
   "id": "ebdc130e",
   "metadata": {},
   "outputs": [
    {
     "data": {
      "text/plain": [
       "((30, 600), (20, 600))"
      ]
     },
     "execution_count": 5,
     "metadata": {},
     "output_type": "execute_result"
    }
   ],
   "source": [
    "# 建模集测试集分割\n",
    "from sklearn.model_selection import train_test_split\n",
    "\n",
    "# 注意 X_ 分割 \n",
    "# 若存在 运行后出现 波段选择为 最小值 可适当调整 建模集与测试集比例 test_size 值 0.3 - 0.5\n",
    "Xcal, Xval, ycal, yval = train_test_split(X_, y, test_size=0.4, random_state=0)\n",
    "\n",
    "Xcal.shape,Xval.shape"
   ]
  },
  {
   "cell_type": "code",
   "execution_count": 6,
   "id": "f4989c57",
   "metadata": {},
   "outputs": [
    {
     "name": "stderr",
     "output_type": "stream",
     "text": [
      "findfont: Font family ['sans-serif'] not found. Falling back to DejaVu Sans.\n",
      "findfont: Font family ['sans-serif'] not found. Falling back to DejaVu Sans.\n"
     ]
    },
    {
     "data": {
      "image/png": "[encoded data removed]",
      "text/plain": [
       "<Figure size 432x288 with 1 Axes>"
      ]
     },
     "metadata": {
      "needs_background": "light"
     },
     "output_type": "display_data"
    },
    {
     "data": {
      "image/png": "[encoded data removed]",
      "text/plain": [
       "<Figure size 432x288 with 1 Axes>"
      ]
     },
     "metadata": {
      "needs_background": "light"
     },
     "output_type": "display_data"
    }
   ],
   "source": [
    "# 建模筛选\n",
    "# m_max 默认为 50(Xcal样本大于52) ,如果 Xcal(m*n) m < 50 m_max=m-2\n",
    "var_sel, var_sel_phase2 = spa.spa(\n",
    "        Xcal, ycal, m_min=2, m_max=28,Xval=Xval, yval=yval, autoscaling=1)"
   ]
  },
  {
   "cell_type": "code",
   "execution_count": 7,
   "id": "ef035355",
   "metadata": {},
   "outputs": [
    {
     "name": "stdout",
     "output_type": "stream",
     "text": [
      "(35, 600) (15, 600)\n"
     ]
    },
    {
     "data": {
      "image/png": "[encoded data removed]",
      "text/plain": [
       "<Figure size 432x288 with 1 Axes>"
      ]
     },
     "metadata": {
      "needs_background": "light"
     },
     "output_type": "display_data"
    },
    {
     "data": {
      "image/png": "[encoded data removed]",
      "text/plain": [
       "<Figure size 432x288 with 1 Axes>"
      ]
     },
     "metadata": {
      "needs_background": "light"
     },
     "output_type": "display_data"
    }
   ],
   "source": [
    "Xcal, Xval, ycal, yval = train_test_split(X_, y, test_size=0.3, random_state=0)\n",
    "print(Xcal.shape,Xval.shape)\n",
    "# 建模筛选\n",
    "var_sel, var_sel_phase2 = spa.spa(\n",
    "        Xcal, ycal, m_min=2, m_max=33,Xval=Xval, yval=yval, autoscaling=1)"
   ]
  },
  {
   "cell_type": "code",
   "execution_count": 8,
   "id": "08d20b43",
   "metadata": {},
   "outputs": [],
   "source": [
    "Xcal, Xval, ycal, yval = train_test_split(X_, y, test_size=0.5, random_state=0)\n",
    "print(Xcal.shape,Xval.shape)\n",
    "# 建模筛选\n",
    "var_sel, var_sel_phase2 = spa.spa(\n",
    "        Xcal, ycal, m_min=2, m_max=23,Xval=Xval, yval=yval, autoscaling=1)"
   ]
  },
  {
   "cell_type": "code",
   "execution_count": 9,
   "id": "21405b2d",
   "metadata": {},
   "outputs": [
    {
     "name": "stdout",
     "output_type": "stream",
     "text": [
      "波段(前5个) ['wl1' 'wl2' 'wl3' 'wl4' 'wl5']\n",
      "spa 筛选出的波段(以 test_size=0.3 为例): ['wl592' 'wl287' 'wl156' 'wl166' 'wl387' 'wl13' 'wl413' 'wl578' 'wl148'\n",
      " 'wl600' 'wl133' 'wl495' 'wl332' 'wl567']\n",
      "X_select.shape: (50, 14)\n"
     ]
    }
   ],
   "source": [
    "# 导出 筛选光谱波段\n",
    "# spa 返回的是 列号 并不是光谱数据\n",
    "# 获取 波段列表\n",
    "absorbances = data.columns.values[1:]\n",
    "print(\"波段(前5个)\",absorbances[:5])\n",
    "\n",
    "# spa 筛选出的波段  以 test_size=0.3 为例\n",
    "print(\"spa 筛选出的波段(以 test_size=0.3 为例):\",absorbances[var_sel])\n",
    "\n",
    "# 导出 筛选波段光谱数据\n",
    "X_select = X[:,var_sel]\n",
    "print(\"X_select.shape:\",X_select.shape)"
   ]
  },
  {
   "cell_type": "code",
   "execution_count": 10,
   "id": "00fd6485",
   "metadata": {},
   "outputs": [],
   "source": [
    "# 建模 比较 PLS\n",
    "from sklearn.cross_decomposition import PLSRegression\n",
    "from sklearn.model_selection import KFold, cross_val_predict, train_test_split\n",
    "from sklearn.metrics import explained_variance_score\n",
    "from sklearn.metrics import mean_squared_error\n",
    "from scipy.signal import savgol_filter\n",
    "from sklearn.neighbors import KNeighborsClassifier\n",
    "from sklearn.model_selection import GridSearchCV\n",
    "from sklearn.metrics import confusion_matrix\n",
    "from sklearn.model_selection import ShuffleSplit\n",
    "from sklearn.linear_model import LogisticRegression"
   ]
  },
  {
   "cell_type": "code",
   "execution_count": 47,
   "id": "6cc75157",
   "metadata": {},
   "outputs": [],
   "source": [
    "def run_model(X, y):\n",
    "\n",
    "    train_accuracy = []\n",
    "    test_accuracy = []\n",
    "    best_train_accuracy = []\n",
    "    best_test_accuracy = []\n",
    "    sf = ShuffleSplit(n_splits=10, test_size=0.2, random_state=0)\n",
    "    for i in range(2,(int)(X.shape[0] * 0.8)):\n",
    "        for train_index, test_index in sf.split(X):\n",
    "            X_train,y_train = np.array(X)[train_index,:], np.array(y)[train_index]\n",
    "            X_test,y_test = np.array(X)[test_index,:], np.array(y)[test_index]\n",
    "            pls = PLSRegression(n_components=i)\n",
    "            pls.fit(X_train, y_train)\n",
    "            y_train_pre = pls.predict(X_train).reshape(1,-1)[0]\n",
    "            y_test_pre = pls.predict(X_test).reshape(1,-1)[0]\n",
    "            \n",
    "            train_accuracy.append(explained_variance_score(y_train, y_train_pre))\n",
    "            test_accuracy.append(explained_variance_score(y_test, y_test_pre))\n",
    "        best_test_accuracy.append(np.mean(test_accuracy))\n",
    "        best_train_accuracy.append(np.mean(train_accuracy))\n",
    "    try:\n",
    "        beat_pamas = np.argmax(best_train_accuracy)\n",
    "        print(beat_pamas)\n",
    "    except:\n",
    "        return 0,0,0,0\n",
    "\n",
    "    return best_test_accuracy[beat_pamas], best_train_accuracy[beat_pamas]\n"
   ]
  },
  {
   "cell_type": "code",
   "execution_count": 48,
   "id": "0b296a96",
   "metadata": {},
   "outputs": [
    {
     "name": "stdout",
     "output_type": "stream",
     "text": [
      "37\n"
     ]
    },
    {
     "data": {
      "text/plain": [
       "(-0.24995622106481558, 0.875900748295627)"
      ]
     },
     "execution_count": 48,
     "metadata": {},
     "output_type": "execute_result"
    }
   ],
   "source": [
    "run_model(X, y)"
   ]
  },
  {
   "cell_type": "code",
   "execution_count": 50,
   "id": "8124f8c1",
   "metadata": {},
   "outputs": [],
   "source": [
    "run_model(X_select, y)\n",
    "#(0.40504202820663965, 0.7187061376599163)"
   ]
  }
 ],
 "metadata": {
  "kernelspec": {
   "display_name": "Python 3",
   "language": "python",
   "name": "python3"
  },
  "language_info": {
   "codemirror_mode": {
    "name": "ipython",
    "version": 3
   },
   "file_extension": ".py",
   "mimetype": "text/x-python",
   "name": "python",
   "nbconvert_exporter": "python",
   "pygments_lexer": "ipython3",
   "version": "3.8.8"
  }
 },
 "nbformat": 4,
 "nbformat_minor": 5
}
